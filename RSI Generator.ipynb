{
 "cells": [
  {
   "cell_type": "code",
   "execution_count": 1,
   "metadata": {
    "collapsed": true
   },
   "outputs": [],
   "source": [
    "import pandas as pd \n",
    "import numpy as np\n",
    "import pandas_datareader.data as web\n",
    "import datetime as dt\n",
    "import matplotlib.pyplot as plt\n",
    "%matplotlib inline"
   ]
  },
  {
   "cell_type": "code",
   "execution_count": 2,
   "metadata": {
    "collapsed": true
   },
   "outputs": [],
   "source": [
    "def getRSI(data,period,closeColumnName):\n",
    "    data.drop(data.index[0],inplace=True)\n",
    "    data['DIFF'] = data[closeColumnName] - data[closeColumnName].shift(1)\n",
    "    data['UP'] = np.where(data['DIFF']>0,data['DIFF'],0)\n",
    "    data['DOWN'] = np.where(data['DIFF']>0,0,-data['DIFF'])\n",
    "    UP_AVG_STR = 'UP_AVG_' + str(period)\n",
    "    DOWN_AVG_STR = 'DOWN_AVG_' + str(period)\n",
    "    data[UP_AVG_STR] = data['UP'].rolling(period).mean()\n",
    "    data[DOWN_AVG_STR] = data['DOWN'].rolling(period).mean()\n",
    "    data.drop(data[np.isnan(data[UP_AVG_STR])].index,inplace=True)\n",
    "    data['RELATIVE_STRENGTH'] = data[UP_AVG_STR]/data[DOWN_AVG_STR]\n",
    "    data['RSI'] = 100 - (100/(data['RELATIVE_STRENGTH'] + 1))\n",
    "\n",
    "    return data"
   ]
  },
  {
   "cell_type": "code",
   "execution_count": null,
   "metadata": {
    "collapsed": true
   },
   "outputs": [],
   "source": []
  }
 ],
 "metadata": {
  "kernelspec": {
   "display_name": "Python 3",
   "language": "python",
   "name": "python3"
  },
  "language_info": {
   "codemirror_mode": {
    "name": "ipython",
    "version": 3
   },
   "file_extension": ".py",
   "mimetype": "text/x-python",
   "name": "python",
   "nbconvert_exporter": "python",
   "pygments_lexer": "ipython3",
   "version": "3.6.3"
  }
 },
 "nbformat": 4,
 "nbformat_minor": 2
}
