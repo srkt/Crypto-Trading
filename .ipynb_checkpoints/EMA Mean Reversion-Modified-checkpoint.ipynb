{
 "cells": [
  {
   "cell_type": "code",
   "execution_count": 104,
   "metadata": {
    "collapsed": true
   },
   "outputs": [],
   "source": [
    "import requests\n",
    "import json\n",
    "import numpy as np\n",
    "import pandas as pd\n",
    "import datetime as dt\n",
    "import matplotlib.pyplot as plt"
   ]
  },
  {
   "cell_type": "code",
   "execution_count": 105,
   "metadata": {
    "collapsed": true
   },
   "outputs": [],
   "source": [
    "pair = \"BTC-XVG\"\n",
    "url = \"https://bittrex.com/Api/v2.0/pub/market/GetTicks?marketName=\" + pair +\"&tickInterval=hour\"\n",
    "start = dt.datetime(2017,12,1)\n",
    "end = dt.datetime(2018,1,19)"
   ]
  },
  {
   "cell_type": "code",
   "execution_count": 106,
   "metadata": {},
   "outputs": [],
   "source": [
    "r = requests.get(url)"
   ]
  },
  {
   "cell_type": "code",
   "execution_count": 107,
   "metadata": {
    "collapsed": true
   },
   "outputs": [],
   "source": [
    "coin = pd.DataFrame(r.json()['result'])"
   ]
  },
  {
   "cell_type": "code",
   "execution_count": 108,
   "metadata": {
    "collapsed": true
   },
   "outputs": [],
   "source": [
    "# Only need closing data , so dropping Open,Low,High,BV\n",
    "coin.drop(['O','L','H','BV'],inplace=True,axis=1)"
   ]
  },
  {
   "cell_type": "code",
   "execution_count": 109,
   "metadata": {},
   "outputs": [
    {
     "data": {
      "text/html": [
       "<div>\n",
       "<style>\n",
       "    .dataframe thead tr:only-child th {\n",
       "        text-align: right;\n",
       "    }\n",
       "\n",
       "    .dataframe thead th {\n",
       "        text-align: left;\n",
       "    }\n",
       "\n",
       "    .dataframe tbody tr th {\n",
       "        vertical-align: top;\n",
       "    }\n",
       "</style>\n",
       "<table border=\"1\" class=\"dataframe\">\n",
       "  <thead>\n",
       "    <tr style=\"text-align: right;\">\n",
       "      <th></th>\n",
       "      <th>C</th>\n",
       "      <th>T</th>\n",
       "      <th>V</th>\n",
       "    </tr>\n",
       "  </thead>\n",
       "  <tbody>\n",
       "    <tr>\n",
       "      <th>0</th>\n",
       "      <td>6.900000e-07</td>\n",
       "      <td>2017-11-21T01:00:00</td>\n",
       "      <td>2.969726e+07</td>\n",
       "    </tr>\n",
       "    <tr>\n",
       "      <th>1</th>\n",
       "      <td>7.100000e-07</td>\n",
       "      <td>2017-11-21T02:00:00</td>\n",
       "      <td>2.650472e+07</td>\n",
       "    </tr>\n",
       "    <tr>\n",
       "      <th>2</th>\n",
       "      <td>7.100000e-07</td>\n",
       "      <td>2017-11-21T03:00:00</td>\n",
       "      <td>2.784458e+07</td>\n",
       "    </tr>\n",
       "    <tr>\n",
       "      <th>3</th>\n",
       "      <td>7.100000e-07</td>\n",
       "      <td>2017-11-21T04:00:00</td>\n",
       "      <td>2.042004e+07</td>\n",
       "    </tr>\n",
       "    <tr>\n",
       "      <th>4</th>\n",
       "      <td>7.000000e-07</td>\n",
       "      <td>2017-11-21T05:00:00</td>\n",
       "      <td>1.007189e+07</td>\n",
       "    </tr>\n",
       "  </tbody>\n",
       "</table>\n",
       "</div>"
      ],
      "text/plain": [
       "              C                    T             V\n",
       "0  6.900000e-07  2017-11-21T01:00:00  2.969726e+07\n",
       "1  7.100000e-07  2017-11-21T02:00:00  2.650472e+07\n",
       "2  7.100000e-07  2017-11-21T03:00:00  2.784458e+07\n",
       "3  7.100000e-07  2017-11-21T04:00:00  2.042004e+07\n",
       "4  7.000000e-07  2017-11-21T05:00:00  1.007189e+07"
      ]
     },
     "execution_count": 109,
     "metadata": {},
     "output_type": "execute_result"
    }
   ],
   "source": [
    "coin.head()"
   ]
  },
  {
   "cell_type": "code",
   "execution_count": 110,
   "metadata": {
    "collapsed": true
   },
   "outputs": [],
   "source": [
    "# Convert Time column frfilteredData Object to Timestamp\n",
    "coin['T']=pd.to_datetime(coin['T'])"
   ]
  },
  {
   "cell_type": "code",
   "execution_count": 111,
   "metadata": {},
   "outputs": [
    {
     "data": {
      "text/html": [
       "<div>\n",
       "<style>\n",
       "    .dataframe thead tr:only-child th {\n",
       "        text-align: right;\n",
       "    }\n",
       "\n",
       "    .dataframe thead th {\n",
       "        text-align: left;\n",
       "    }\n",
       "\n",
       "    .dataframe tbody tr th {\n",
       "        vertical-align: top;\n",
       "    }\n",
       "</style>\n",
       "<table border=\"1\" class=\"dataframe\">\n",
       "  <thead>\n",
       "    <tr style=\"text-align: right;\">\n",
       "      <th></th>\n",
       "      <th>C</th>\n",
       "      <th>T</th>\n",
       "      <th>V</th>\n",
       "    </tr>\n",
       "  </thead>\n",
       "  <tbody>\n",
       "    <tr>\n",
       "      <th>0</th>\n",
       "      <td>6.900000e-07</td>\n",
       "      <td>2017-11-21 01:00:00</td>\n",
       "      <td>2.969726e+07</td>\n",
       "    </tr>\n",
       "    <tr>\n",
       "      <th>1</th>\n",
       "      <td>7.100000e-07</td>\n",
       "      <td>2017-11-21 02:00:00</td>\n",
       "      <td>2.650472e+07</td>\n",
       "    </tr>\n",
       "    <tr>\n",
       "      <th>2</th>\n",
       "      <td>7.100000e-07</td>\n",
       "      <td>2017-11-21 03:00:00</td>\n",
       "      <td>2.784458e+07</td>\n",
       "    </tr>\n",
       "    <tr>\n",
       "      <th>3</th>\n",
       "      <td>7.100000e-07</td>\n",
       "      <td>2017-11-21 04:00:00</td>\n",
       "      <td>2.042004e+07</td>\n",
       "    </tr>\n",
       "    <tr>\n",
       "      <th>4</th>\n",
       "      <td>7.000000e-07</td>\n",
       "      <td>2017-11-21 05:00:00</td>\n",
       "      <td>1.007189e+07</td>\n",
       "    </tr>\n",
       "  </tbody>\n",
       "</table>\n",
       "</div>"
      ],
      "text/plain": [
       "              C                   T             V\n",
       "0  6.900000e-07 2017-11-21 01:00:00  2.969726e+07\n",
       "1  7.100000e-07 2017-11-21 02:00:00  2.650472e+07\n",
       "2  7.100000e-07 2017-11-21 03:00:00  2.784458e+07\n",
       "3  7.100000e-07 2017-11-21 04:00:00  2.042004e+07\n",
       "4  7.000000e-07 2017-11-21 05:00:00  1.007189e+07"
      ]
     },
     "execution_count": 111,
     "metadata": {},
     "output_type": "execute_result"
    }
   ],
   "source": [
    "# Set index as T\n",
    "coin.set_index('T')\n",
    "coin.head()"
   ]
  },
  {
   "cell_type": "code",
   "execution_count": 112,
   "metadata": {},
   "outputs": [],
   "source": [
    "filteredData = pd.DataFrame()\n",
    "filteredData = coin[coin['T']>start].copy()"
   ]
  },
  {
   "cell_type": "code",
   "execution_count": 113,
   "metadata": {},
   "outputs": [
    {
     "data": {
      "text/html": [
       "<div>\n",
       "<style>\n",
       "    .dataframe thead tr:only-child th {\n",
       "        text-align: right;\n",
       "    }\n",
       "\n",
       "    .dataframe thead th {\n",
       "        text-align: left;\n",
       "    }\n",
       "\n",
       "    .dataframe tbody tr th {\n",
       "        vertical-align: top;\n",
       "    }\n",
       "</style>\n",
       "<table border=\"1\" class=\"dataframe\">\n",
       "  <thead>\n",
       "    <tr style=\"text-align: right;\">\n",
       "      <th></th>\n",
       "      <th>C</th>\n",
       "      <th>T</th>\n",
       "      <th>V</th>\n",
       "    </tr>\n",
       "  </thead>\n",
       "  <tbody>\n",
       "    <tr>\n",
       "      <th>240</th>\n",
       "      <td>5.600000e-07</td>\n",
       "      <td>2017-12-01 01:00:00</td>\n",
       "      <td>3.364757e+06</td>\n",
       "    </tr>\n",
       "    <tr>\n",
       "      <th>241</th>\n",
       "      <td>5.600000e-07</td>\n",
       "      <td>2017-12-01 02:00:00</td>\n",
       "      <td>8.142881e+06</td>\n",
       "    </tr>\n",
       "    <tr>\n",
       "      <th>242</th>\n",
       "      <td>5.600000e-07</td>\n",
       "      <td>2017-12-01 03:00:00</td>\n",
       "      <td>4.610612e+06</td>\n",
       "    </tr>\n",
       "    <tr>\n",
       "      <th>243</th>\n",
       "      <td>5.500000e-07</td>\n",
       "      <td>2017-12-01 04:00:00</td>\n",
       "      <td>6.475530e+06</td>\n",
       "    </tr>\n",
       "    <tr>\n",
       "      <th>244</th>\n",
       "      <td>5.700000e-07</td>\n",
       "      <td>2017-12-01 05:00:00</td>\n",
       "      <td>1.392259e+07</td>\n",
       "    </tr>\n",
       "    <tr>\n",
       "      <th>245</th>\n",
       "      <td>5.800000e-07</td>\n",
       "      <td>2017-12-01 06:00:00</td>\n",
       "      <td>1.137024e+07</td>\n",
       "    </tr>\n",
       "    <tr>\n",
       "      <th>246</th>\n",
       "      <td>5.800000e-07</td>\n",
       "      <td>2017-12-01 07:00:00</td>\n",
       "      <td>1.351412e+07</td>\n",
       "    </tr>\n",
       "    <tr>\n",
       "      <th>247</th>\n",
       "      <td>5.700000e-07</td>\n",
       "      <td>2017-12-01 08:00:00</td>\n",
       "      <td>9.961239e+06</td>\n",
       "    </tr>\n",
       "    <tr>\n",
       "      <th>248</th>\n",
       "      <td>5.800000e-07</td>\n",
       "      <td>2017-12-01 09:00:00</td>\n",
       "      <td>1.540178e+07</td>\n",
       "    </tr>\n",
       "    <tr>\n",
       "      <th>249</th>\n",
       "      <td>5.700000e-07</td>\n",
       "      <td>2017-12-01 10:00:00</td>\n",
       "      <td>1.005270e+07</td>\n",
       "    </tr>\n",
       "  </tbody>\n",
       "</table>\n",
       "</div>"
      ],
      "text/plain": [
       "                C                   T             V\n",
       "240  5.600000e-07 2017-12-01 01:00:00  3.364757e+06\n",
       "241  5.600000e-07 2017-12-01 02:00:00  8.142881e+06\n",
       "242  5.600000e-07 2017-12-01 03:00:00  4.610612e+06\n",
       "243  5.500000e-07 2017-12-01 04:00:00  6.475530e+06\n",
       "244  5.700000e-07 2017-12-01 05:00:00  1.392259e+07\n",
       "245  5.800000e-07 2017-12-01 06:00:00  1.137024e+07\n",
       "246  5.800000e-07 2017-12-01 07:00:00  1.351412e+07\n",
       "247  5.700000e-07 2017-12-01 08:00:00  9.961239e+06\n",
       "248  5.800000e-07 2017-12-01 09:00:00  1.540178e+07\n",
       "249  5.700000e-07 2017-12-01 10:00:00  1.005270e+07"
      ]
     },
     "execution_count": 113,
     "metadata": {},
     "output_type": "execute_result"
    }
   ],
   "source": [
    "filteredData.head(10)"
   ]
  },
  {
   "cell_type": "code",
   "execution_count": 114,
   "metadata": {},
   "outputs": [
    {
     "name": "stderr",
     "output_type": "stream",
     "text": [
      "C:\\Users\\suman\\Anaconda3\\lib\\site-packages\\ipykernel_launcher.py:4: FutureWarning: pd.ewm_mean is deprecated for Series and will be removed in a future version, replace with \n",
      "\tSeries.ewm(span=9,min_periods=0,adjust=True,ignore_na=False).mean()\n",
      "  after removing the cwd from sys.path.\n",
      "C:\\Users\\suman\\Anaconda3\\lib\\site-packages\\ipykernel_launcher.py:5: FutureWarning: pd.ewm_mean is deprecated for Series and will be removed in a future version, replace with \n",
      "\tSeries.ewm(span=21,min_periods=0,adjust=True,ignore_na=False).mean()\n",
      "  \"\"\"\n"
     ]
    }
   ],
   "source": [
    "# filteredData['EMA9'] = filteredData['C'].rolling(9).mean()\n",
    "# filteredData['EMA21'] = filteredData['C'].rolling(21).mean()\n",
    "\n",
    "filteredData['EMA9'] = pd.ewma(filteredData['C'],span=9)\n",
    "filteredData['EMA21'] = pd.ewma(filteredData['C'],span=21)\n"
   ]
  },
  {
   "cell_type": "code",
   "execution_count": 115,
   "metadata": {},
   "outputs": [
    {
     "data": {
      "image/png": "[encoded data removed]",
      "text/plain": [
       "<matplotlib.figure.Figure at 0x21f2ea574a8>"
      ]
     },
     "metadata": {},
     "output_type": "display_data"
    }
   ],
   "source": [
    "plt.figure(figsize=(16,10))\n",
    "# plt.plot(filteredData['T'],filteredData['C'])\n",
    "plt.plot(filteredData['T'],filteredData['EMA9'])\n",
    "plt.plot(filteredData['T'],filteredData['EMA21'])\n",
    "plt.legend(['EMA9','EMA21'])\n",
    "# plt.legend(['Current Price','EMA9','EMA21'])\n",
    "plt.show()"
   ]
  },
  {
   "cell_type": "code",
   "execution_count": 116,
   "metadata": {},
   "outputs": [
    {
     "data": {
      "text/html": [
       "<div>\n",
       "<style>\n",
       "    .dataframe thead tr:only-child th {\n",
       "        text-align: right;\n",
       "    }\n",
       "\n",
       "    .dataframe thead th {\n",
       "        text-align: left;\n",
       "    }\n",
       "\n",
       "    .dataframe tbody tr th {\n",
       "        vertical-align: top;\n",
       "    }\n",
       "</style>\n",
       "<table border=\"1\" class=\"dataframe\">\n",
       "  <thead>\n",
       "    <tr style=\"text-align: right;\">\n",
       "      <th></th>\n",
       "      <th>C</th>\n",
       "      <th>T</th>\n",
       "      <th>V</th>\n",
       "      <th>EMA9</th>\n",
       "      <th>EMA21</th>\n",
       "    </tr>\n",
       "  </thead>\n",
       "  <tbody>\n",
       "    <tr>\n",
       "      <th>240</th>\n",
       "      <td>5.600000e-07</td>\n",
       "      <td>2017-12-01 01:00:00</td>\n",
       "      <td>3.364757e+06</td>\n",
       "      <td>5.600000e-07</td>\n",
       "      <td>5.600000e-07</td>\n",
       "    </tr>\n",
       "    <tr>\n",
       "      <th>241</th>\n",
       "      <td>5.600000e-07</td>\n",
       "      <td>2017-12-01 02:00:00</td>\n",
       "      <td>8.142881e+06</td>\n",
       "      <td>5.600000e-07</td>\n",
       "      <td>5.600000e-07</td>\n",
       "    </tr>\n",
       "    <tr>\n",
       "      <th>242</th>\n",
       "      <td>5.600000e-07</td>\n",
       "      <td>2017-12-01 03:00:00</td>\n",
       "      <td>4.610612e+06</td>\n",
       "      <td>5.600000e-07</td>\n",
       "      <td>5.600000e-07</td>\n",
       "    </tr>\n",
       "    <tr>\n",
       "      <th>243</th>\n",
       "      <td>5.500000e-07</td>\n",
       "      <td>2017-12-01 04:00:00</td>\n",
       "      <td>6.475530e+06</td>\n",
       "      <td>5.566125e-07</td>\n",
       "      <td>5.571321e-07</td>\n",
       "    </tr>\n",
       "    <tr>\n",
       "      <th>244</th>\n",
       "      <td>5.700000e-07</td>\n",
       "      <td>2017-12-01 05:00:00</td>\n",
       "      <td>1.392259e+07</td>\n",
       "      <td>5.605950e-07</td>\n",
       "      <td>5.602180e-07</td>\n",
       "    </tr>\n",
       "  </tbody>\n",
       "</table>\n",
       "</div>"
      ],
      "text/plain": [
       "                C                   T             V          EMA9  \\\n",
       "240  5.600000e-07 2017-12-01 01:00:00  3.364757e+06  5.600000e-07   \n",
       "241  5.600000e-07 2017-12-01 02:00:00  8.142881e+06  5.600000e-07   \n",
       "242  5.600000e-07 2017-12-01 03:00:00  4.610612e+06  5.600000e-07   \n",
       "243  5.500000e-07 2017-12-01 04:00:00  6.475530e+06  5.566125e-07   \n",
       "244  5.700000e-07 2017-12-01 05:00:00  1.392259e+07  5.605950e-07   \n",
       "\n",
       "            EMA21  \n",
       "240  5.600000e-07  \n",
       "241  5.600000e-07  \n",
       "242  5.600000e-07  \n",
       "243  5.571321e-07  \n",
       "244  5.602180e-07  "
      ]
     },
     "execution_count": 116,
     "metadata": {},
     "output_type": "execute_result"
    }
   ],
   "source": [
    "filteredData.head()"
   ]
  },
  {
   "cell_type": "code",
   "execution_count": 117,
   "metadata": {
    "collapsed": true
   },
   "outputs": [],
   "source": [
    "filteredData['BUY'] = np.where((filteredData['EMA9'] > filteredData['EMA21']) & (filteredData['EMA9'].shift(1) < filteredData['EMA21'].shift(1)),filteredData['C'],0)"
   ]
  },
  {
   "cell_type": "code",
   "execution_count": 118,
   "metadata": {},
   "outputs": [],
   "source": [
    "filteredData['SELL'] = np.where((filteredData['EMA9'] < filteredData['EMA21']) & (filteredData['EMA9'].shift(1) > filteredData['EMA21'].shift(1)),filteredData['C'],0)"
   ]
  },
  {
   "cell_type": "code",
   "execution_count": 96,
   "metadata": {},
   "outputs": [
    {
     "data": {
      "text/html": [
       "<div>\n",
       "<style>\n",
       "    .dataframe thead tr:only-child th {\n",
       "        text-align: right;\n",
       "    }\n",
       "\n",
       "    .dataframe thead th {\n",
       "        text-align: left;\n",
       "    }\n",
       "\n",
       "    .dataframe tbody tr th {\n",
       "        vertical-align: top;\n",
       "    }\n",
       "</style>\n",
       "<table border=\"1\" class=\"dataframe\">\n",
       "  <thead>\n",
       "    <tr style=\"text-align: right;\">\n",
       "      <th></th>\n",
       "      <th>C</th>\n",
       "      <th>T</th>\n",
       "      <th>V</th>\n",
       "      <th>EMA9</th>\n",
       "      <th>EMA21</th>\n",
       "      <th>BUY</th>\n",
       "      <th>SELL</th>\n",
       "    </tr>\n",
       "  </thead>\n",
       "  <tbody>\n",
       "    <tr>\n",
       "      <th>245</th>\n",
       "      <td>5.700000e-07</td>\n",
       "      <td>2017-12-01 05:00:00</td>\n",
       "      <td>1.392259e+07</td>\n",
       "      <td>5.605950e-07</td>\n",
       "      <td>5.602180e-07</td>\n",
       "      <td>5.700000e-07</td>\n",
       "      <td>0.000000e+00</td>\n",
       "    </tr>\n",
       "    <tr>\n",
       "      <th>254</th>\n",
       "      <td>5.600000e-07</td>\n",
       "      <td>2017-12-01 14:00:00</td>\n",
       "      <td>1.523008e+07</td>\n",
       "      <td>5.692319e-07</td>\n",
       "      <td>5.694316e-07</td>\n",
       "      <td>0.000000e+00</td>\n",
       "      <td>5.600000e-07</td>\n",
       "    </tr>\n",
       "    <tr>\n",
       "      <th>262</th>\n",
       "      <td>5.700000e-07</td>\n",
       "      <td>2017-12-01 22:00:00</td>\n",
       "      <td>6.480219e+06</td>\n",
       "      <td>5.686875e-07</td>\n",
       "      <td>5.685487e-07</td>\n",
       "      <td>5.700000e-07</td>\n",
       "      <td>0.000000e+00</td>\n",
       "    </tr>\n",
       "    <tr>\n",
       "      <th>265</th>\n",
       "      <td>5.600000e-07</td>\n",
       "      <td>2017-12-02 01:00:00</td>\n",
       "      <td>1.207984e+07</td>\n",
       "      <td>5.673228e-07</td>\n",
       "      <td>5.679448e-07</td>\n",
       "      <td>0.000000e+00</td>\n",
       "      <td>5.600000e-07</td>\n",
       "    </tr>\n",
       "    <tr>\n",
       "      <th>287</th>\n",
       "      <td>5.600000e-07</td>\n",
       "      <td>2017-12-02 23:00:00</td>\n",
       "      <td>2.080411e+07</td>\n",
       "      <td>5.508929e-07</td>\n",
       "      <td>5.498729e-07</td>\n",
       "      <td>5.600000e-07</td>\n",
       "      <td>0.000000e+00</td>\n",
       "    </tr>\n",
       "    <tr>\n",
       "      <th>348</th>\n",
       "      <td>6.700000e-07</td>\n",
       "      <td>2017-12-05 12:00:00</td>\n",
       "      <td>1.572327e+07</td>\n",
       "      <td>6.788294e-07</td>\n",
       "      <td>6.791286e-07</td>\n",
       "      <td>0.000000e+00</td>\n",
       "      <td>6.700000e-07</td>\n",
       "    </tr>\n",
       "    <tr>\n",
       "      <th>427</th>\n",
       "      <td>5.300000e-07</td>\n",
       "      <td>2017-12-08 19:00:00</td>\n",
       "      <td>1.585837e+07</td>\n",
       "      <td>5.183131e-07</td>\n",
       "      <td>5.174237e-07</td>\n",
       "      <td>5.300000e-07</td>\n",
       "      <td>0.000000e+00</td>\n",
       "    </tr>\n",
       "    <tr>\n",
       "      <th>463</th>\n",
       "      <td>5.600000e-07</td>\n",
       "      <td>2017-12-10 07:00:00</td>\n",
       "      <td>1.124944e+07</td>\n",
       "      <td>5.672649e-07</td>\n",
       "      <td>5.677667e-07</td>\n",
       "      <td>0.000000e+00</td>\n",
       "      <td>5.600000e-07</td>\n",
       "    </tr>\n",
       "    <tr>\n",
       "      <th>493</th>\n",
       "      <td>5.400000e-07</td>\n",
       "      <td>2017-12-11 13:00:00</td>\n",
       "      <td>1.313775e+07</td>\n",
       "      <td>5.295828e-07</td>\n",
       "      <td>5.293740e-07</td>\n",
       "      <td>5.400000e-07</td>\n",
       "      <td>0.000000e+00</td>\n",
       "    </tr>\n",
       "    <tr>\n",
       "      <th>500</th>\n",
       "      <td>5.200000e-07</td>\n",
       "      <td>2017-12-11 20:00:00</td>\n",
       "      <td>1.919194e+07</td>\n",
       "      <td>5.317950e-07</td>\n",
       "      <td>5.321537e-07</td>\n",
       "      <td>0.000000e+00</td>\n",
       "      <td>5.200000e-07</td>\n",
       "    </tr>\n",
       "  </tbody>\n",
       "</table>\n",
       "</div>"
      ],
      "text/plain": [
       "                C                   T             V          EMA9  \\\n",
       "245  5.700000e-07 2017-12-01 05:00:00  1.392259e+07  5.605950e-07   \n",
       "254  5.600000e-07 2017-12-01 14:00:00  1.523008e+07  5.692319e-07   \n",
       "262  5.700000e-07 2017-12-01 22:00:00  6.480219e+06  5.686875e-07   \n",
       "265  5.600000e-07 2017-12-02 01:00:00  1.207984e+07  5.673228e-07   \n",
       "287  5.600000e-07 2017-12-02 23:00:00  2.080411e+07  5.508929e-07   \n",
       "348  6.700000e-07 2017-12-05 12:00:00  1.572327e+07  6.788294e-07   \n",
       "427  5.300000e-07 2017-12-08 19:00:00  1.585837e+07  5.183131e-07   \n",
       "463  5.600000e-07 2017-12-10 07:00:00  1.124944e+07  5.672649e-07   \n",
       "493  5.400000e-07 2017-12-11 13:00:00  1.313775e+07  5.295828e-07   \n",
       "500  5.200000e-07 2017-12-11 20:00:00  1.919194e+07  5.317950e-07   \n",
       "\n",
       "            EMA21           BUY          SELL  \n",
       "245  5.602180e-07  5.700000e-07  0.000000e+00  \n",
       "254  5.694316e-07  0.000000e+00  5.600000e-07  \n",
       "262  5.685487e-07  5.700000e-07  0.000000e+00  \n",
       "265  5.679448e-07  0.000000e+00  5.600000e-07  \n",
       "287  5.498729e-07  5.600000e-07  0.000000e+00  \n",
       "348  6.791286e-07  0.000000e+00  6.700000e-07  \n",
       "427  5.174237e-07  5.300000e-07  0.000000e+00  \n",
       "463  5.677667e-07  0.000000e+00  5.600000e-07  \n",
       "493  5.293740e-07  5.400000e-07  0.000000e+00  \n",
       "500  5.321537e-07  0.000000e+00  5.200000e-07  "
      ]
     },
     "execution_count": 96,
     "metadata": {},
     "output_type": "execute_result"
    }
   ],
   "source": [
    "buysellDataframe = filteredData[(filteredData['BUY'] > 0) | (filteredData['SELL'] > 0)]\n",
    "buysellDataframe.head(10)"
   ]
  },
  {
   "cell_type": "code",
   "execution_count": 101,
   "metadata": {},
   "outputs": [],
   "source": [
    "profit_percentage = 0.1\n",
    "# buysellDataframe['SELL'] = np.where(buysellDataframe['SELL'] > (1+profit_percentage)*buysellDataframe['BUY'].shift(1),buysellDataframe['SELL'],0)"
   ]
  },
  {
   "cell_type": "code",
   "execution_count": 102,
   "metadata": {},
   "outputs": [
    {
     "data": {
      "image/png": "[encoded data removed]",
      "text/plain": [
       "<matplotlib.figure.Figure at 0x21f2e42c860>"
      ]
     },
     "metadata": {},
     "output_type": "display_data"
    }
   ],
   "source": [
    "plt.figure(figsize=(16,10))\n",
    "plt.plot(buysellDataframe['T'],buysellDataframe['C'])\n",
    "plt.plot(buysellDataframe['T'],buysellDataframe['EMA9'])\n",
    "plt.plot(buysellDataframe['T'],buysellDataframe['EMA21'])\n",
    "plt.legend(['Current Price','EMA9','EMA21'])\n",
    "plt.show()"
   ]
  },
  {
   "cell_type": "code",
   "execution_count": 130,
   "metadata": {},
   "outputs": [
    {
     "name": "stdout",
     "output_type": "stream",
     "text": [
      "Started with BTC :1\n",
      "Bought BTC-XVG # 1754385.9649122804 on 2017-12-01 05:00:00\n",
      "Bought BTC-XVG # 1754385.9649122804 on 2017-12-01 22:00:00\n",
      "Bought BTC-XVG # 1785714.2857142857 on 2017-12-02 23:00:00\n",
      "Made 1.1964285714285714 BTC on 2017-12-05 12:00:00\n",
      "Bought BTC-XVG # 2257412.398921833 on 2017-12-08 19:00:00\n",
      "Bought BTC-XVG # 2215608.4656084655 on 2017-12-11 13:00:00\n",
      "Bought BTC-XVG # 2215608.4656084655 on 2017-12-12 04:00:00\n",
      "Bought BTC-XVG # 2136479.5918367347 on 2017-12-13 00:00:00\n",
      "Made 2.0082908163265305 BTC on 2017-12-15 09:00:00\n",
      "Bought BTC-XVG # 1761658.610812746 on 2017-12-15 15:00:00\n",
      "Made 4.9502606963838165 BTC on 2017-12-18 14:00:00\n",
      "Bought BTC-XVG # 1551805.8609353658 on 2017-12-18 19:00:00\n",
      "Made 11.250592491781402 BTC on 2017-12-21 14:00:00\n",
      "Bought BTC-XVG # 1375378.0552300003 on 2017-12-21 23:00:00\n",
      "Bought BTC-XVG # 1252849.9434055013 on 2017-12-22 20:00:00\n",
      "Made 20.910065555437818 BTC on 2017-12-25 07:00:00\n",
      "Bought BTC-XVG # 1751261.7718122127 on 2017-12-27 01:00:00\n",
      "Bought BTC-XVG # 1865304.6882638554 on 2017-12-28 20:00:00\n",
      "Bought BTC-XVG # 1843921.1248181497 on 2017-12-30 14:00:00\n",
      "Made 24.192245157614124 BTC on 2018-01-01 06:00:00\n",
      "Bought BTC-XVG # 2267314.4477613987 on 2018-01-04 05:00:00\n",
      "Bought BTC-XVG # 2219472.032808635 on 2018-01-06 09:00:00\n",
      "Bought BTC-XVG # 2144702.584894869 on 2018-01-07 02:00:00\n",
      "Bought BTC-XVG # 2221510.1154833906 on 2018-01-07 21:00:00\n",
      "Made 29.63494494054843 BTC on 2018-01-09 23:00:00\n",
      "Bought BTC-XVG # 2641260.689888452 on 2018-01-12 10:00:00\n",
      "Bought BTC-XVG # 3462026.278101452 on 2018-01-17 21:00:00\n",
      "Final BTC-XVG bought : #3462026.278101452\n",
      "Made BTC # :29.63494494054843\n"
     ]
    }
   ],
   "source": [
    "# Backtesting...\n",
    "BTC = 1\n",
    "stocks = 0\n",
    "bought = False\n",
    "bought_price = 0\n",
    "profit_perc = 0.1\n",
    "stop_loss = 0.1\n",
    "stop_sell = 0.2\n",
    "print('Started with BTC :' + str(BTC))\n",
    "for i,r in buysellDataframe.iterrows():\n",
    "\n",
    "    \n",
    "    if r['BUY'] != 0 & bought == False:\n",
    "            stocks = BTC/r['BUY']\n",
    "            bought_price = r['BUY']\n",
    "            bought = True\n",
    "            print('Bought ' + pair + ' # ' + str(stocks) + ' on ' + str(r['T']))\n",
    "    elif bought == True:\n",
    "            if (r['SELL'] > (1+profit_perc)*bought_price) | ((bought_price*(1-stop_loss) > r['SELL']) & (bought_price*(1-stop_sell) < r['SELL'])):  \n",
    "                BTC = stocks*r['SELL']\n",
    "                bought = False\n",
    "                print('Made ' + str(BTC) + ' BTC on ' + str(r['T']))\n",
    "    \n",
    "\n",
    "print('Final ' + pair + ' bought : #' + str(stocks))\n",
    "print('Made BTC # :' + str(BTC))"
   ]
  },
  {
   "cell_type": "code",
   "execution_count": null,
   "metadata": {
    "collapsed": true
   },
   "outputs": [],
   "source": []
  }
 ],
 "metadata": {
  "kernelspec": {
   "display_name": "Python 3",
   "language": "python",
   "name": "python3"
  },
  "language_info": {
   "codemirror_mode": {
    "name": "ipython",
    "version": 3
   },
   "file_extension": ".py",
   "mimetype": "text/x-python",
   "name": "python",
   "nbconvert_exporter": "python",
   "pygments_lexer": "ipython3",
   "version": "3.6.3"
  }
 },
 "nbformat": 4,
 "nbformat_minor": 2
}
